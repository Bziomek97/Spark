{
 "cells": [
  {
   "cell_type": "markdown",
   "id": "88a2b242",
   "metadata": {},
   "source": [
    "## Spark ML - badanie oszustw z kartami kredytowymi"
   ]
  },
  {
   "cell_type": "markdown",
   "id": "42a15a15",
   "metadata": {},
   "source": [
    "Źródło danych: https://www.kaggle.com/mlg-ulb/creditcardfraud"
   ]
  },
  {
   "cell_type": "markdown",
   "id": "1a0eac32",
   "metadata": {},
   "source": [
    "#### Wczytanie danych"
   ]
  },
  {
   "cell_type": "code",
   "execution_count": 1,
   "id": "f9e39af6",
   "metadata": {},
   "outputs": [],
   "source": [
    "from pyspark.sql import SparkSession\n",
    "from pyspark.ml.feature import VectorAssembler\n",
    "from pyspark.ml.feature import Normalizer\n",
    "from pyspark.ml.classification import RandomForestClassifier, LogisticRegression, GBTClassifier\n",
    "from pyspark.ml.evaluation import MulticlassClassificationEvaluator, BinaryClassificationEvaluator\n",
    "from pyspark.mllib.evaluation import MulticlassMetrics\n",
    "from pyspark.sql.types import DoubleType"
   ]
  },
  {
   "cell_type": "code",
   "execution_count": 3,
   "id": "132b07c2",
   "metadata": {},
   "outputs": [],
   "source": [
    "from pyspark import SparkConf\n",
    "\n",
    "spark = SparkSession.builder.master('local').appName('MiNADZD').getOrCreate()"
   ]
  },
  {
   "cell_type": "code",
   "execution_count": 4,
   "id": "b348adb8",
   "metadata": {},
   "outputs": [
    {
     "data": {
      "text/plain": [
       "DataFrame[Customer Type: double, Age: double, Type of Travel: double, Class: double, Flight Distance: double, Inflight wifi service: double, Departure/Arrival time convenient: double, Ease of Online booking: double, Gate location: double, Food and drink: double, Online boarding: double, Seat comfort: double, Inflight entertainment: double, On-board service: double, Leg room service: double, Baggage handling: double, Checkin service: double, Inflight service: double, Cleanliness: double, Departure Delay in Minutes: double, Arrival Delay in Minutes: double, satisfaction: double, Male: double, Female: double]"
      ]
     },
     "execution_count": 4,
     "metadata": {},
     "output_type": "execute_result"
    }
   ],
   "source": [
    "df = spark.read.csv('./dataset/finalDataset.csv', header=True, inferSchema=True)\n",
    "\n",
    "df = df.drop('ind')\n",
    "df = df.drop('_C0')\n",
    "df = df.drop('id')\n",
    "\n",
    "for feature in df.columns:\n",
    "    df = df.withColumn(feature, df[feature].cast(DoubleType()))\n",
    "\n",
    "df"
   ]
  },
  {
   "cell_type": "markdown",
   "id": "06dabaf9",
   "metadata": {},
   "source": [
    "Rozmiar danych po wczytaniu zbioru:"
   ]
  },
  {
   "cell_type": "code",
   "execution_count": 5,
   "id": "01020e68",
   "metadata": {},
   "outputs": [
    {
     "data": {
      "text/plain": [
       "'Rozmiar danych: 129880 rows x 24 columns.'"
      ]
     },
     "execution_count": 5,
     "metadata": {},
     "output_type": "execute_result"
    }
   ],
   "source": [
    "'Rozmiar danych: ' + str(df.count()) + ' rows x ' + str(len(df.columns)) + ' columns.'"
   ]
  },
  {
   "cell_type": "code",
   "execution_count": 6,
   "id": "011698e8",
   "metadata": {},
   "outputs": [
    {
     "name": "stdout",
     "output_type": "stream",
     "text": [
      "+------------------+-------------------+------------------+-------------------+-------------------+---------------------+---------------------------------+----------------------+-------------------+-------------------+-------------------+-------------------+----------------------+-------------------+-------------------+-------------------+-------------------+-------------------+-------------------+--------------------------+------------------------+------------+-------------------+-------------------+\n",
      "|     Customer Type|                Age|    Type of Travel|              Class|    Flight Distance|Inflight wifi service|Departure/Arrival time convenient|Ease of Online booking|      Gate location|     Food and drink|    Online boarding|       Seat comfort|Inflight entertainment|   On-board service|   Leg room service|   Baggage handling|    Checkin service|   Inflight service|        Cleanliness|Departure Delay in Minutes|Arrival Delay in Minutes|satisfaction|               Male|             Female|\n",
      "+------------------+-------------------+------------------+-------------------+-------------------+---------------------+---------------------------------+----------------------+-------------------+-------------------+-------------------+-------------------+----------------------+-------------------+-------------------+-------------------+-------------------+-------------------+-------------------+--------------------------+------------------------+------------+-------------------+-------------------+\n",
      "|0.4739994179571176| 0.8320063018865691|0.6700208300639806|-1.0707925731932413|-1.0340922560787622|   1.7099873521820876|               0.6177571401407639|     0.173615889623546| 0.8012479401559369|-0.1543898303802115| 0.5537795893059885|-0.3350291782683361|    1.2321124726700066| 1.2573010682320516| 1.2541086229399343| 1.1605652583564867|-1.0327896878109075| 1.1553570656618195| 1.3056492410486191|        0.9274279682423278|      0.7530561131358223|         1.0|-0.9859936413651555| 0.9861486717497728|\n",
      "|0.4739994179571176|-0.2270957677250685|0.6700208300639806| 1.0087489677785082| 1.6788063572178535|   -1.301705621975469|              -1.3489063298260822|     0.173615889623546|-1.5476261242944545|  1.350829166356844| 0.5537795893059885| 1.1826837905843703|     0.481699144039819| 0.4797458329299118| 0.4936080710783476| 0.3123762358576233|-0.2421501109380679| 0.3046484108334569| 1.3056492410486191|       -0.3864797700222218|     -0.3929700766980824|         1.0|-0.9859936413651555| 0.9861486717497728|\n",
      "|-2.113879198389532|-1.2861978373367062|0.6700208300639806|-1.0707925731932413|-1.0019750693878664|  -0.5487823784360798|               -2.004460819815031|    -0.540532384147037| 0.8012479401559369|-0.9069993287487396|-0.9284438637401068|-1.0938856626946896|    -1.019127513220556| 0.4797458329299118| -1.787893584506412|-0.5358127866412399|-1.0327896878109075|-1.3967688988232685|-0.9801858421526176|       -0.3864797700222218|     -0.3929700766980824|         0.0| 1.0160990230529328|-1.0161492238348329|\n",
      "|0.4739994179571176| 0.3024552670807502|0.6700208300639806| 1.0087489677785082|  2.194688668440369|   -2.054628865514858|               -2.004460819815031|   -1.9688289316882035|-0.7646681028109906|-0.1543898303802115| 0.5537795893059885| 0.4238273061580171|   -1.7695408418507437| -1.852919872976507| -1.787893584506412|-2.2321908316389667|-0.2421501109380679| -2.247477553651631| 0.5437042133148736|       -0.3864797700222218|     -0.2366937780843681|         1.0| 1.0160990230529328|-1.0161492238348329|\n",
      "|0.4739994179571176|  0.633424663834387|0.6700208300639806|-1.0707925731932413|-0.0083496061382734|  -0.5487823784360798|              -0.0377973498481848|    0.8877641633941291| 0.0182899186724731| 0.5982196679883163|-1.6695555902631545|-1.0938856626946896|    -1.019127513220556|-1.0753646376743675|-1.0273930326448255|-1.3840018091401032|  0.548489465934772|-1.3967688988232685| 0.5437042133148736|       -0.3864797700222218|      0.1279509186809652|         1.0|-0.9859936413651555| 0.9861486717497728|\n",
      "+------------------+-------------------+------------------+-------------------+-------------------+---------------------+---------------------------------+----------------------+-------------------+-------------------+-------------------+-------------------+----------------------+-------------------+-------------------+-------------------+-------------------+-------------------+-------------------+--------------------------+------------------------+------------+-------------------+-------------------+\n",
      "only showing top 5 rows\n",
      "\n"
     ]
    }
   ],
   "source": [
    "df.show(5)"
   ]
  },
  {
   "cell_type": "markdown",
   "id": "96d20516",
   "metadata": {},
   "source": [
    "Przeniesienie wszystkich cech do jednej kolumny w wektorze"
   ]
  },
  {
   "cell_type": "code",
   "execution_count": 7,
   "id": "718e68d6",
   "metadata": {},
   "outputs": [],
   "source": [
    "inputColumns = []\n",
    "for feature in df.columns:\n",
    "    if feature != 'satisfaction':\n",
    "        inputColumns.append(feature)\n",
    "\n",
    "assembler = VectorAssembler(inputCols=inputColumns, outputCol='features')\n",
    "df = assembler.transform(df)"
   ]
  },
  {
   "cell_type": "code",
   "execution_count": 8,
   "id": "d6606e54",
   "metadata": {},
   "outputs": [
    {
     "data": {
      "text/plain": [
       "DataFrame[satisfaction: double, features: vector]"
      ]
     },
     "execution_count": 8,
     "metadata": {},
     "output_type": "execute_result"
    }
   ],
   "source": [
    "df = df.select('satisfaction', 'features')\n",
    "df"
   ]
  },
  {
   "cell_type": "markdown",
   "id": "b45888e0",
   "metadata": {},
   "source": [
    "Normalizacja"
   ]
  },
  {
   "cell_type": "code",
   "execution_count": 9,
   "id": "0309b01e",
   "metadata": {},
   "outputs": [
    {
     "name": "stdout",
     "output_type": "stream",
     "text": [
      "+--------------------+\n",
      "|        normFeatures|\n",
      "+--------------------+\n",
      "|[0.02314763577377...|\n",
      "|[0.02649627212010...|\n",
      "|[-0.0918628977331...|\n",
      "|[0.01829704167050...|\n",
      "|[0.02757044123145...|\n",
      "+--------------------+\n",
      "only showing top 5 rows\n",
      "\n"
     ]
    }
   ],
   "source": [
    "normalizer = Normalizer(inputCol=\"features\", outputCol=\"normFeatures\", p=1.0)\n",
    "liNormData = normalizer.transform(df)\n",
    "liNormData.select('normFeatures').show(5)"
   ]
  },
  {
   "cell_type": "markdown",
   "id": "97a7b627",
   "metadata": {},
   "source": [
    "Podział na dane uczące i testowe"
   ]
  },
  {
   "cell_type": "code",
   "execution_count": 10,
   "id": "790e8509",
   "metadata": {},
   "outputs": [],
   "source": [
    "(trainingNormData, testNormData) = liNormData.randomSplit([0.8,0.2])"
   ]
  },
  {
   "cell_type": "markdown",
   "id": "268e1762",
   "metadata": {},
   "source": [
    "### RandomForestClassifier - trenowanie & testowanie "
   ]
  },
  {
   "cell_type": "code",
   "execution_count": 11,
   "id": "c2c9edff",
   "metadata": {},
   "outputs": [],
   "source": [
    "algo = RandomForestClassifier(featuresCol='normFeatures', labelCol='satisfaction')\n",
    "model = algo.fit(trainingNormData)"
   ]
  },
  {
   "cell_type": "code",
   "execution_count": 12,
   "id": "83c9d264",
   "metadata": {},
   "outputs": [],
   "source": [
    "predictions = model.transform(testNormData)"
   ]
  },
  {
   "cell_type": "markdown",
   "id": "801a5b93",
   "metadata": {},
   "source": [
    "Wyświetlenie pierwszych 20 wyników klasyfikacji:"
   ]
  },
  {
   "cell_type": "code",
   "execution_count": 13,
   "id": "fce144af",
   "metadata": {},
   "outputs": [
    {
     "name": "stdout",
     "output_type": "stream",
     "text": [
      "+------------+----------+--------------------+\n",
      "|satisfaction|prediction|         probability|\n",
      "+------------+----------+--------------------+\n",
      "|         0.0|       0.0|[0.90039878570638...|\n",
      "|         0.0|       0.0|[0.90880050756560...|\n",
      "|         0.0|       0.0|[0.91740492141826...|\n",
      "|         0.0|       0.0|[0.90889150611218...|\n",
      "|         0.0|       0.0|[0.64115748479544...|\n",
      "+------------+----------+--------------------+\n",
      "only showing top 5 rows\n",
      "\n"
     ]
    }
   ],
   "source": [
    "predictions.select(['satisfaction','prediction', 'probability']).show(5)"
   ]
  },
  {
   "cell_type": "markdown",
   "id": "52601e37",
   "metadata": {},
   "source": [
    "### Ocena jakości klasyfikatora"
   ]
  },
  {
   "cell_type": "markdown",
   "id": "cfd5151e",
   "metadata": {},
   "source": [
    "Dokładność i błąd klasyfikacji"
   ]
  },
  {
   "cell_type": "code",
   "execution_count": 14,
   "id": "9abc7d2c",
   "metadata": {},
   "outputs": [
    {
     "data": {
      "text/plain": [
       "0.9054720616570328"
      ]
     },
     "execution_count": 14,
     "metadata": {},
     "output_type": "execute_result"
    }
   ],
   "source": [
    "evaluator = MulticlassClassificationEvaluator(labelCol='satisfaction', predictionCol=\"prediction\", metricName='accuracy')\n",
    "evaluator.evaluate(predictions)"
   ]
  },
  {
   "cell_type": "markdown",
   "id": "890abc5f",
   "metadata": {},
   "source": [
    "F1-score"
   ]
  },
  {
   "cell_type": "code",
   "execution_count": 15,
   "id": "6925f438",
   "metadata": {},
   "outputs": [
    {
     "data": {
      "text/plain": [
       "0.9051694359814064"
      ]
     },
     "execution_count": 15,
     "metadata": {},
     "output_type": "execute_result"
    }
   ],
   "source": [
    "evaluator = MulticlassClassificationEvaluator(labelCol='satisfaction', predictionCol=\"prediction\", metricName='f1')\n",
    "evaluator.evaluate(predictions)"
   ]
  },
  {
   "cell_type": "markdown",
   "id": "dc5d7b10",
   "metadata": {},
   "source": [
    "AUC"
   ]
  },
  {
   "cell_type": "code",
   "execution_count": 16,
   "id": "4d1abae3",
   "metadata": {},
   "outputs": [
    {
     "data": {
      "text/plain": [
       "0.9635726377323806"
      ]
     },
     "execution_count": 16,
     "metadata": {},
     "output_type": "execute_result"
    }
   ],
   "source": [
    "evaluator = BinaryClassificationEvaluator(labelCol='satisfaction', rawPredictionCol='rawPrediction')\n",
    "evaluator.evaluate(predictions)"
   ]
  },
  {
   "cell_type": "markdown",
   "id": "a2783822",
   "metadata": {},
   "source": [
    "Confusion Matrix"
   ]
  },
  {
   "cell_type": "code",
   "execution_count": 17,
   "id": "2f6a6df9",
   "metadata": {},
   "outputs": [],
   "source": [
    "rdd = predictions.select('prediction','satisfaction').rdd"
   ]
  },
  {
   "cell_type": "code",
   "execution_count": 18,
   "id": "3a3d540e",
   "metadata": {},
   "outputs": [],
   "source": [
    "mm = MulticlassMetrics(rdd)"
   ]
  },
  {
   "cell_type": "code",
   "execution_count": 21,
   "id": "3ec93d60",
   "metadata": {},
   "outputs": [
    {
     "data": {
      "text/plain": [
       "DenseMatrix(2, 2, [13724.0, 1493.0, 960.0, 9773.0], 0)"
      ]
     },
     "execution_count": 21,
     "metadata": {},
     "output_type": "execute_result"
    }
   ],
   "source": [
    "metrics = MulticlassMetrics(predictions.select('prediction','satisfaction').rdd)\n",
    "metrics.confusionMatrix()"
   ]
  },
  {
   "cell_type": "markdown",
   "id": "9744dcea",
   "metadata": {},
   "source": [
    "### LogisticRegression - trenowanie & testowanie "
   ]
  },
  {
   "cell_type": "code",
   "execution_count": 22,
   "id": "2f9e0a9e",
   "metadata": {},
   "outputs": [],
   "source": [
    "algo = LogisticRegression(featuresCol='normFeatures', labelCol='satisfaction')\n",
    "model = algo.fit(trainingNormData)"
   ]
  },
  {
   "cell_type": "code",
   "execution_count": 23,
   "id": "298c5650",
   "metadata": {},
   "outputs": [],
   "source": [
    "predictions = model.transform(testNormData)"
   ]
  },
  {
   "cell_type": "markdown",
   "id": "3aaf6283",
   "metadata": {},
   "source": [
    "Wyświetlenie pierwszych 20 wyników klasyfikacji:"
   ]
  },
  {
   "cell_type": "code",
   "execution_count": 24,
   "id": "d80ee4f7",
   "metadata": {
    "scrolled": true
   },
   "outputs": [
    {
     "name": "stdout",
     "output_type": "stream",
     "text": [
      "+------------+----------+\n",
      "|satisfaction|prediction|\n",
      "+------------+----------+\n",
      "|         0.0|       0.0|\n",
      "|         0.0|       0.0|\n",
      "|         0.0|       0.0|\n",
      "|         0.0|       0.0|\n",
      "|         0.0|       0.0|\n",
      "+------------+----------+\n",
      "only showing top 5 rows\n",
      "\n"
     ]
    }
   ],
   "source": [
    "predictions.select(['satisfaction','prediction']).show(5)"
   ]
  },
  {
   "cell_type": "markdown",
   "id": "ce2dd0c6",
   "metadata": {},
   "source": [
    "### Ocena jakości klasyfikatora"
   ]
  },
  {
   "cell_type": "markdown",
   "id": "b08da5ee",
   "metadata": {},
   "source": [
    "Dokładność i błąd klasyfikacji"
   ]
  },
  {
   "cell_type": "code",
   "execution_count": 25,
   "id": "edf8c192",
   "metadata": {},
   "outputs": [
    {
     "data": {
      "text/plain": [
       "0.8678612716763006"
      ]
     },
     "execution_count": 25,
     "metadata": {},
     "output_type": "execute_result"
    }
   ],
   "source": [
    "evaluator = MulticlassClassificationEvaluator(labelCol='satisfaction', predictionCol=\"prediction\", metricName='accuracy')\n",
    "evaluator.evaluate(predictions)"
   ]
  },
  {
   "cell_type": "markdown",
   "id": "7746fef1",
   "metadata": {},
   "source": [
    "F1-score"
   ]
  },
  {
   "cell_type": "code",
   "execution_count": 26,
   "id": "e1d70201",
   "metadata": {},
   "outputs": [
    {
     "data": {
      "text/plain": [
       "0.8674255138821951"
      ]
     },
     "execution_count": 26,
     "metadata": {},
     "output_type": "execute_result"
    }
   ],
   "source": [
    "evaluator = MulticlassClassificationEvaluator(labelCol='satisfaction', predictionCol=\"prediction\", metricName='f1')\n",
    "evaluator.evaluate(predictions)"
   ]
  },
  {
   "cell_type": "markdown",
   "id": "82151467",
   "metadata": {},
   "source": [
    "AUC"
   ]
  },
  {
   "cell_type": "code",
   "execution_count": 27,
   "id": "28db2105",
   "metadata": {},
   "outputs": [
    {
     "data": {
      "text/plain": [
       "0.9246415328533273"
      ]
     },
     "execution_count": 27,
     "metadata": {},
     "output_type": "execute_result"
    }
   ],
   "source": [
    "evaluator = BinaryClassificationEvaluator(labelCol='satisfaction', rawPredictionCol='rawPrediction')\n",
    "evaluator.evaluate(predictions)"
   ]
  },
  {
   "cell_type": "markdown",
   "id": "934a1a1a",
   "metadata": {},
   "source": [
    "Confusion Matrix"
   ]
  },
  {
   "cell_type": "code",
   "execution_count": 28,
   "id": "3d7cd735",
   "metadata": {},
   "outputs": [
    {
     "data": {
      "text/plain": [
       "DenseMatrix(2, 2, [13243.0, 1988.0, 1441.0, 9278.0], 0)"
      ]
     },
     "execution_count": 28,
     "metadata": {},
     "output_type": "execute_result"
    }
   ],
   "source": [
    "metrics = MulticlassMetrics(predictions.select('prediction','satisfaction').rdd)\n",
    "metrics.confusionMatrix()"
   ]
  },
  {
   "cell_type": "markdown",
   "id": "c8d89781",
   "metadata": {},
   "source": [
    "### Gradient-Boosted Tree Classfier - trenowanie & testowanie "
   ]
  },
  {
   "cell_type": "code",
   "execution_count": 29,
   "id": "2417db42",
   "metadata": {},
   "outputs": [],
   "source": [
    "algo = GBTClassifier(featuresCol='normFeatures', labelCol='satisfaction')\n",
    "model = algo.fit(trainingNormData)"
   ]
  },
  {
   "cell_type": "code",
   "execution_count": 30,
   "id": "e26a518d",
   "metadata": {},
   "outputs": [],
   "source": [
    "predictions = model.transform(testNormData)"
   ]
  },
  {
   "cell_type": "markdown",
   "id": "a0e9ef2d",
   "metadata": {},
   "source": [
    "Wyświetlenie pierwszych 20 wyników klasyfikacji:"
   ]
  },
  {
   "cell_type": "code",
   "execution_count": 31,
   "id": "9298c528",
   "metadata": {},
   "outputs": [
    {
     "name": "stdout",
     "output_type": "stream",
     "text": [
      "+------------+----------+\n",
      "|satisfaction|prediction|\n",
      "+------------+----------+\n",
      "|         0.0|       0.0|\n",
      "|         0.0|       0.0|\n",
      "|         0.0|       0.0|\n",
      "|         0.0|       0.0|\n",
      "|         0.0|       0.0|\n",
      "|         0.0|       0.0|\n",
      "|         0.0|       0.0|\n",
      "|         0.0|       0.0|\n",
      "|         0.0|       0.0|\n",
      "|         0.0|       0.0|\n",
      "|         0.0|       0.0|\n",
      "|         0.0|       0.0|\n",
      "|         0.0|       0.0|\n",
      "|         0.0|       0.0|\n",
      "|         0.0|       0.0|\n",
      "|         0.0|       0.0|\n",
      "|         0.0|       0.0|\n",
      "|         0.0|       0.0|\n",
      "|         0.0|       0.0|\n",
      "|         0.0|       0.0|\n",
      "+------------+----------+\n",
      "only showing top 20 rows\n",
      "\n"
     ]
    }
   ],
   "source": [
    "predictions.select(['satisfaction','prediction']).show()"
   ]
  },
  {
   "cell_type": "markdown",
   "id": "ed757c0b",
   "metadata": {},
   "source": [
    "### Ocena jakości klasyfikatora"
   ]
  },
  {
   "cell_type": "markdown",
   "id": "d790bb72",
   "metadata": {},
   "source": [
    "Dokładność i błąd klasyfikacji"
   ]
  },
  {
   "cell_type": "code",
   "execution_count": 32,
   "id": "1e675c77",
   "metadata": {},
   "outputs": [
    {
     "data": {
      "text/plain": [
       "0.9310597302504817"
      ]
     },
     "execution_count": 32,
     "metadata": {},
     "output_type": "execute_result"
    }
   ],
   "source": [
    "evaluator = MulticlassClassificationEvaluator(labelCol='satisfaction', predictionCol=\"prediction\", metricName='accuracy')\n",
    "evaluator.evaluate(predictions)"
   ]
  },
  {
   "cell_type": "markdown",
   "id": "90a36925",
   "metadata": {},
   "source": [
    "F1-score"
   ]
  },
  {
   "cell_type": "code",
   "execution_count": 33,
   "id": "7f19e7a9",
   "metadata": {},
   "outputs": [
    {
     "data": {
      "text/plain": [
       "0.9309618830636932"
      ]
     },
     "execution_count": 33,
     "metadata": {},
     "output_type": "execute_result"
    }
   ],
   "source": [
    "evaluator = MulticlassClassificationEvaluator(labelCol='satisfaction', predictionCol=\"prediction\", metricName='f1')\n",
    "evaluator.evaluate(predictions)"
   ]
  },
  {
   "cell_type": "markdown",
   "id": "0403646b",
   "metadata": {},
   "source": [
    "AUC"
   ]
  },
  {
   "cell_type": "code",
   "execution_count": 34,
   "id": "85933db1",
   "metadata": {},
   "outputs": [
    {
     "data": {
      "text/plain": [
       "0.9801908474320711"
      ]
     },
     "execution_count": 34,
     "metadata": {},
     "output_type": "execute_result"
    }
   ],
   "source": [
    "evaluator = BinaryClassificationEvaluator(labelCol='satisfaction', rawPredictionCol='rawPrediction')\n",
    "evaluator.evaluate(predictions)"
   ]
  },
  {
   "cell_type": "markdown",
   "id": "d84baca8",
   "metadata": {},
   "source": [
    "Confusion Matrix"
   ]
  },
  {
   "cell_type": "code",
   "execution_count": 35,
   "id": "7e185b98",
   "metadata": {},
   "outputs": [
    {
     "data": {
      "text/plain": [
       "DenseMatrix(2, 2, [13917.0, 1022.0, 767.0, 10244.0], 0)"
      ]
     },
     "execution_count": 35,
     "metadata": {},
     "output_type": "execute_result"
    }
   ],
   "source": [
    "metrics = MulticlassMetrics(predictions.select('prediction','satisfaction').rdd)\n",
    "metrics.confusionMatrix()"
   ]
  },
  {
   "cell_type": "code",
   "execution_count": null,
   "id": "f658afbf",
   "metadata": {},
   "outputs": [],
   "source": []
  }
 ],
 "metadata": {
  "kernelspec": {
   "display_name": "Python 3",
   "language": "python",
   "name": "python3"
  },
  "language_info": {
   "codemirror_mode": {
    "name": "ipython",
    "version": 3
   },
   "file_extension": ".py",
   "mimetype": "text/x-python",
   "name": "python",
   "nbconvert_exporter": "python",
   "pygments_lexer": "ipython3",
   "version": "3.9.5"
  }
 },
 "nbformat": 4,
 "nbformat_minor": 5
}
