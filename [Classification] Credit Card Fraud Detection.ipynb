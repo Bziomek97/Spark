{
 "cells": [
  {
   "cell_type": "markdown",
   "id": "7a440ad2",
   "metadata": {},
   "source": [
    "## Spark ML - badanie oszustw z kartami kredytowymi"
   ]
  },
  {
   "cell_type": "markdown",
   "id": "7018c554",
   "metadata": {},
   "source": [
    "Źródło danych: https://www.kaggle.com/mlg-ulb/creditcardfraud"
   ]
  },
  {
   "cell_type": "markdown",
   "id": "b947a6d9",
   "metadata": {},
   "source": [
    "#### Wczytanie danych"
   ]
  },
  {
   "cell_type": "code",
   "execution_count": 1,
   "id": "11e0b0bc",
   "metadata": {},
   "outputs": [],
   "source": [
    "from pyspark.sql import SparkSession\n",
    "from pyspark.ml.feature import VectorAssembler\n",
    "from pyspark.ml.feature import Normalizer\n",
    "from pyspark.ml.classification import RandomForestClassifier, LogisticRegression, GBTClassifier\n",
    "from pyspark.ml.evaluation import MulticlassClassificationEvaluator, BinaryClassificationEvaluator\n",
    "from pyspark.mllib.evaluation import MulticlassMetrics\n",
    "from pyspark.sql.types import DoubleType"
   ]
  },
  {
   "cell_type": "code",
   "execution_count": 2,
   "id": "4eaf253b",
   "metadata": {},
   "outputs": [],
   "source": [
    "spark = SparkSession.builder.master('local').appName('MiNADZD').getOrCreate()\n",
    "\n",
    "df = spark.read.csv('./dataset/creditcard.csv', header=True, inferSchema=True)\n",
    "df = df.withColumn('Class', df['Class'].cast(DoubleType()))"
   ]
  },
  {
   "cell_type": "markdown",
   "id": "bdcd4784",
   "metadata": {},
   "source": [
    "Rozmiar danych po wczytaniu zbioru:"
   ]
  },
  {
   "cell_type": "code",
   "execution_count": 3,
   "id": "bd6ff78f",
   "metadata": {},
   "outputs": [
    {
     "data": {
      "text/plain": [
       "'Rozmiar danych: 284807 rows x 31 columns.'"
      ]
     },
     "execution_count": 3,
     "metadata": {},
     "output_type": "execute_result"
    }
   ],
   "source": [
    "'Rozmiar danych: ' + str(df.count()) + ' rows x ' + str(len(df.columns)) + ' columns.'"
   ]
  },
  {
   "cell_type": "code",
   "execution_count": 28,
   "id": "08a70163",
   "metadata": {},
   "outputs": [
    {
     "name": "stdout",
     "output_type": "stream",
     "text": [
      "+----+------------------+-------------------+----------------+------------------+-------------------+-------------------+-------------------+------------------+------------------+-------------------+------------------+------------------+------------------+------------------+------------------+------------------+------------------+-------------------+------------------+-------------------+--------------------+-------------------+------------------+------------------+------------------+------------------+--------------------+-------------------+------+-----+--------------------+\n",
      "|Time|                V1|                 V2|              V3|                V4|                 V5|                 V6|                 V7|                V8|                V9|                V10|               V11|               V12|               V13|               V14|               V15|               V16|               V17|                V18|               V19|                V20|                 V21|                V22|               V23|               V24|               V25|               V26|                 V27|                V28|Amount|Class|            features|\n",
      "+----+------------------+-------------------+----------------+------------------+-------------------+-------------------+-------------------+------------------+------------------+-------------------+------------------+------------------+------------------+------------------+------------------+------------------+------------------+-------------------+------------------+-------------------+--------------------+-------------------+------------------+------------------+------------------+------------------+--------------------+-------------------+------+-----+--------------------+\n",
      "| 0.0|  -1.3598071336738|-0.0727811733098497|2.53634673796914|  1.37815522427443| -0.338320769942518|  0.462387777762292|  0.239598554061257|0.0986979012610507| 0.363786969611213| 0.0907941719789316|-0.551599533260813|-0.617800855762348|-0.991389847235408|-0.311169353699879|  1.46817697209427|-0.470400525259478| 0.207971241929242| 0.0257905801985591| 0.403992960255733|  0.251412098239705|  -0.018306777944153|  0.277837575558899|-0.110473910188767|0.0669280749146731| 0.128539358273528|-0.189114843888824|   0.133558376740387|-0.0210530534538215|149.62|  0.0|[0.0,149.62,-1.35...|\n",
      "| 0.0|  1.19185711131486|   0.26615071205963|0.16648011335321| 0.448154078460911| 0.0600176492822243|-0.0823608088155687|-0.0788029833323113|0.0851016549148104|-0.255425128109186| -0.166974414004614|  1.61272666105479|  1.06523531137287|  0.48909501589608|-0.143772296441519| 0.635558093258208| 0.463917041022171|-0.114804663102346| -0.183361270123994|-0.145783041325259|-0.0690831352230203|  -0.225775248033138| -0.638671952771851| 0.101288021253234|-0.339846475529127| 0.167170404418143| 0.125894532368176|-0.00898309914322813| 0.0147241691924927|  2.69|  0.0|[0.0,2.69,1.19185...|\n",
      "| 1.0| -1.35835406159823|  -1.34016307473609|1.77320934263119| 0.379779593034328| -0.503198133318193|   1.80049938079263|  0.791460956450422| 0.247675786588991| -1.51465432260583|  0.207642865216696| 0.624501459424895| 0.066083685268831| 0.717292731410831|-0.165945922763554|  2.34586494901581| -2.89008319444231|  1.10996937869599| -0.121359313195888| -2.26185709530414|  0.524979725224404|   0.247998153469754|  0.771679401917229| 0.909412262347719|-0.689280956490685|-0.327641833735251|-0.139096571514147| -0.0553527940384261|-0.0597518405929204|378.66|  0.0|[1.0,378.66,-1.35...|\n",
      "| 1.0|-0.966271711572087| -0.185226008082898|1.79299333957872|-0.863291275036453|-0.0103088796030823|   1.24720316752486|   0.23760893977178| 0.377435874652262| -1.38702406270197|-0.0549519224713749|-0.226487263835401| 0.178228225877303| 0.507756869957169| -0.28792374549456|-0.631418117709045|  -1.0596472454325|-0.684092786345479|   1.96577500349538|  -1.2326219700892| -0.208037781160366|  -0.108300452035545|0.00527359678253453|-0.190320518742841| -1.17557533186321| 0.647376034602038|-0.221928844458407|  0.0627228487293033| 0.0614576285006353| 123.5|  0.0|[1.0,123.5,-0.966...|\n",
      "| 2.0| -1.15823309349523|  0.877736754848451|  1.548717846511| 0.403033933955121| -0.407193377311653| 0.0959214624684256|  0.592940745385545|-0.270532677192282| 0.817739308235294|  0.753074431976354|-0.822842877946363|  0.53819555014995|   1.3458515932154| -1.11966983471731| 0.175121130008994|-0.451449182813529|-0.237033239362776|-0.0381947870352842| 0.803486924960175|  0.408542360392758|-0.00943069713232919|   0.79827849458971|-0.137458079619063| 0.141266983824769|-0.206009587619756| 0.502292224181569|   0.219422229513348|  0.215153147499206| 69.99|  0.0|[2.0,69.99,-1.158...|\n",
      "+----+------------------+-------------------+----------------+------------------+-------------------+-------------------+-------------------+------------------+------------------+-------------------+------------------+------------------+------------------+------------------+------------------+------------------+------------------+-------------------+------------------+-------------------+--------------------+-------------------+------------------+------------------+------------------+------------------+--------------------+-------------------+------+-----+--------------------+\n",
      "only showing top 5 rows\n",
      "\n"
     ]
    }
   ],
   "source": [
    "df.show(5)"
   ]
  },
  {
   "cell_type": "markdown",
   "id": "2a647dd8",
   "metadata": {},
   "source": [
    "Przeniesienie wszystkich cech do jednej kolumny w wektorze"
   ]
  },
  {
   "cell_type": "code",
   "execution_count": 4,
   "id": "d9539368",
   "metadata": {},
   "outputs": [],
   "source": [
    "listColumns=df.columns\n",
    "\n",
    "if not 'features' in listColumns:\n",
    "    inputColumns = ['Time','Amount']\n",
    "    for i in range(1,29):\n",
    "        inputColumns.append('V'+str(i))\n",
    "\n",
    "    assembler = VectorAssembler(inputCols=inputColumns, outputCol='features')\n",
    "    df = assembler.transform(df)"
   ]
  },
  {
   "cell_type": "markdown",
   "id": "8afda08c",
   "metadata": {},
   "source": [
    "Normalizacja"
   ]
  },
  {
   "cell_type": "code",
   "execution_count": 5,
   "id": "049bb102",
   "metadata": {},
   "outputs": [
    {
     "name": "stdout",
     "output_type": "stream",
     "text": [
      "+--------------------+\n",
      "|        normFeatures|\n",
      "+--------------------+\n",
      "|[0.0,0.9190068131...|\n",
      "|[0.0,0.2234773306...|\n",
      "|[0.00247767129574...|\n",
      "|[0.00708831461517...|\n",
      "|[0.02296611443072...|\n",
      "+--------------------+\n",
      "only showing top 5 rows\n",
      "\n"
     ]
    }
   ],
   "source": [
    "normalizer = Normalizer(inputCol=\"features\", outputCol=\"normFeatures\", p=1.0)\n",
    "liNormData = normalizer.transform(df)\n",
    "liNormData.select('normFeatures').show(5)"
   ]
  },
  {
   "cell_type": "markdown",
   "id": "f7dc69d4",
   "metadata": {},
   "source": [
    "Podział na dane uczące i testowe"
   ]
  },
  {
   "cell_type": "code",
   "execution_count": 6,
   "id": "5805be66",
   "metadata": {},
   "outputs": [],
   "source": [
    "(trainingNormData, testNormData) = liNormData.randomSplit([0.8,0.2])"
   ]
  },
  {
   "cell_type": "markdown",
   "id": "8257e255",
   "metadata": {},
   "source": [
    "### RandomForestClassifier - trenowanie & testowanie "
   ]
  },
  {
   "cell_type": "code",
   "execution_count": 7,
   "id": "101b2806",
   "metadata": {},
   "outputs": [],
   "source": [
    "algo = RandomForestClassifier(featuresCol='normFeatures', labelCol='Class')\n",
    "model = algo.fit(trainingNormData)"
   ]
  },
  {
   "cell_type": "code",
   "execution_count": 8,
   "id": "c18c2f0f",
   "metadata": {},
   "outputs": [],
   "source": [
    "predictions = model.transform(testNormData)"
   ]
  },
  {
   "cell_type": "markdown",
   "id": "6c1c047c",
   "metadata": {},
   "source": [
    "Wyświetlenie pierwszych 20 wyników klasyfikacji:"
   ]
  },
  {
   "cell_type": "code",
   "execution_count": 9,
   "id": "2c385879",
   "metadata": {},
   "outputs": [
    {
     "name": "stdout",
     "output_type": "stream",
     "text": [
      "+-----+----------+--------------------+\n",
      "|Class|prediction|         probability|\n",
      "+-----+----------+--------------------+\n",
      "|  0.0|       0.0|[0.98584846610895...|\n",
      "|  0.0|       0.0|[0.99501517779238...|\n",
      "|  0.0|       0.0|[0.99122397700143...|\n",
      "|  0.0|       0.0|[0.99932419959270...|\n",
      "|  0.0|       0.0|[0.96398032250162...|\n",
      "|  0.0|       0.0|[0.99345809862081...|\n",
      "|  0.0|       0.0|[0.99508633174788...|\n",
      "|  0.0|       0.0|[0.99508605598980...|\n",
      "|  0.0|       0.0|[0.99949164073313...|\n",
      "|  0.0|       0.0|[0.99545200029915...|\n",
      "|  0.0|       0.0|[0.99946677853171...|\n",
      "|  0.0|       0.0|[0.99359088179585...|\n",
      "|  0.0|       0.0|[0.99960312913487...|\n",
      "|  0.0|       0.0|[0.92472114154392...|\n",
      "|  0.0|       0.0|[0.99944328947565...|\n",
      "|  0.0|       0.0|[0.99543909780981...|\n",
      "|  0.0|       0.0|[0.92057682489152...|\n",
      "|  0.0|       0.0|[0.99955210469369...|\n",
      "|  0.0|       0.0|[0.99506528893611...|\n",
      "|  0.0|       0.0|[0.96285893836944...|\n",
      "+-----+----------+--------------------+\n",
      "only showing top 20 rows\n",
      "\n"
     ]
    }
   ],
   "source": [
    "predictions.select(['Class','prediction', 'probability']).show()"
   ]
  },
  {
   "cell_type": "markdown",
   "id": "b099ed48",
   "metadata": {},
   "source": [
    "### Ocena jakości klasyfikatora"
   ]
  },
  {
   "cell_type": "markdown",
   "id": "1c7321cd",
   "metadata": {},
   "source": [
    "Dokładność i błąd klasyfikacji"
   ]
  },
  {
   "cell_type": "code",
   "execution_count": 10,
   "id": "ce74d220",
   "metadata": {},
   "outputs": [
    {
     "data": {
      "text/plain": [
       "0.9990055826936497"
      ]
     },
     "execution_count": 10,
     "metadata": {},
     "output_type": "execute_result"
    }
   ],
   "source": [
    "evaluator = MulticlassClassificationEvaluator(labelCol='Class', predictionCol=\"prediction\", metricName='accuracy')\n",
    "evaluator.evaluate(predictions)"
   ]
  },
  {
   "cell_type": "markdown",
   "id": "45e7a7eb",
   "metadata": {},
   "source": [
    "F1-score"
   ]
  },
  {
   "cell_type": "code",
   "execution_count": 11,
   "id": "82185233",
   "metadata": {},
   "outputs": [
    {
     "data": {
      "text/plain": [
       "0.9988998686865757"
      ]
     },
     "execution_count": 11,
     "metadata": {},
     "output_type": "execute_result"
    }
   ],
   "source": [
    "evaluator = MulticlassClassificationEvaluator(labelCol='Class', predictionCol=\"prediction\", metricName='f1')\n",
    "evaluator.evaluate(predictions)"
   ]
  },
  {
   "cell_type": "markdown",
   "id": "e6b41ecf",
   "metadata": {},
   "source": [
    "AUC"
   ]
  },
  {
   "cell_type": "code",
   "execution_count": 12,
   "id": "e7a96b0f",
   "metadata": {},
   "outputs": [
    {
     "data": {
      "text/plain": [
       "0.9253303995877488"
      ]
     },
     "execution_count": 12,
     "metadata": {},
     "output_type": "execute_result"
    }
   ],
   "source": [
    "evaluator = BinaryClassificationEvaluator(labelCol='Class', rawPredictionCol='rawPrediction')\n",
    "evaluator.evaluate(predictions)"
   ]
  },
  {
   "cell_type": "markdown",
   "id": "9ad93fdb",
   "metadata": {},
   "source": [
    "Confusion Matrix"
   ]
  },
  {
   "cell_type": "code",
   "execution_count": 13,
   "id": "357de597",
   "metadata": {},
   "outputs": [
    {
     "data": {
      "text/plain": [
       "DenseMatrix(2, 2, [57214.0, 45.0, 12.0, 49.0], 0)"
      ]
     },
     "execution_count": 13,
     "metadata": {},
     "output_type": "execute_result"
    }
   ],
   "source": [
    "metrics = MulticlassMetrics(predictions.select('prediction','Class').rdd)\n",
    "metrics.confusionMatrix()"
   ]
  },
  {
   "cell_type": "markdown",
   "id": "ffd965cc",
   "metadata": {},
   "source": [
    "### LogisticRegression - trenowanie & testowanie "
   ]
  },
  {
   "cell_type": "code",
   "execution_count": 14,
   "id": "e7dcc4f6",
   "metadata": {},
   "outputs": [],
   "source": [
    "algo = LogisticRegression(featuresCol='normFeatures', labelCol='Class')\n",
    "model = algo.fit(trainingNormData)"
   ]
  },
  {
   "cell_type": "code",
   "execution_count": 15,
   "id": "2c053a68",
   "metadata": {},
   "outputs": [],
   "source": [
    "predictions = model.transform(testNormData)"
   ]
  },
  {
   "cell_type": "markdown",
   "id": "17c48723",
   "metadata": {},
   "source": [
    "Wyświetlenie pierwszych 20 wyników klasyfikacji:"
   ]
  },
  {
   "cell_type": "code",
   "execution_count": 16,
   "id": "caffde55",
   "metadata": {
    "scrolled": true
   },
   "outputs": [
    {
     "name": "stdout",
     "output_type": "stream",
     "text": [
      "+-----+----------+\n",
      "|Class|prediction|\n",
      "+-----+----------+\n",
      "|  0.0|       0.0|\n",
      "|  0.0|       0.0|\n",
      "|  0.0|       0.0|\n",
      "|  0.0|       0.0|\n",
      "|  0.0|       0.0|\n",
      "|  0.0|       0.0|\n",
      "|  0.0|       0.0|\n",
      "|  0.0|       0.0|\n",
      "|  0.0|       0.0|\n",
      "|  0.0|       0.0|\n",
      "|  0.0|       0.0|\n",
      "|  0.0|       0.0|\n",
      "|  0.0|       0.0|\n",
      "|  0.0|       0.0|\n",
      "|  0.0|       0.0|\n",
      "|  0.0|       0.0|\n",
      "|  0.0|       0.0|\n",
      "|  0.0|       0.0|\n",
      "|  0.0|       0.0|\n",
      "|  0.0|       0.0|\n",
      "+-----+----------+\n",
      "only showing top 20 rows\n",
      "\n"
     ]
    }
   ],
   "source": [
    "predictions.select(['Class','prediction']).show()"
   ]
  },
  {
   "cell_type": "markdown",
   "id": "c5d3ec1d",
   "metadata": {},
   "source": [
    "### Ocena jakości klasyfikatora"
   ]
  },
  {
   "cell_type": "markdown",
   "id": "422eb1a1",
   "metadata": {},
   "source": [
    "Dokładność i błąd klasyfikacji"
   ]
  },
  {
   "cell_type": "code",
   "execution_count": 17,
   "id": "fbe7dca3",
   "metadata": {},
   "outputs": [
    {
     "data": {
      "text/plain": [
       "0.9984647592463364"
      ]
     },
     "execution_count": 17,
     "metadata": {},
     "output_type": "execute_result"
    }
   ],
   "source": [
    "evaluator = MulticlassClassificationEvaluator(labelCol='Class', predictionCol=\"prediction\", metricName='accuracy')\n",
    "evaluator.evaluate(predictions)"
   ]
  },
  {
   "cell_type": "markdown",
   "id": "a74b2546",
   "metadata": {},
   "source": [
    "F1-score"
   ]
  },
  {
   "cell_type": "code",
   "execution_count": 18,
   "id": "f6f79911",
   "metadata": {},
   "outputs": [
    {
     "data": {
      "text/plain": [
       "0.9980499316079973"
      ]
     },
     "execution_count": 18,
     "metadata": {},
     "output_type": "execute_result"
    }
   ],
   "source": [
    "evaluator = MulticlassClassificationEvaluator(labelCol='Class', predictionCol=\"prediction\", metricName='f1')\n",
    "evaluator.evaluate(predictions)"
   ]
  },
  {
   "cell_type": "markdown",
   "id": "ee905774",
   "metadata": {},
   "source": [
    "AUC"
   ]
  },
  {
   "cell_type": "code",
   "execution_count": 19,
   "id": "3170d966",
   "metadata": {},
   "outputs": [
    {
     "data": {
      "text/plain": [
       "0.8884689930406596"
      ]
     },
     "execution_count": 19,
     "metadata": {},
     "output_type": "execute_result"
    }
   ],
   "source": [
    "evaluator = BinaryClassificationEvaluator(labelCol='Class', rawPredictionCol='rawPrediction')\n",
    "evaluator.evaluate(predictions)"
   ]
  },
  {
   "cell_type": "markdown",
   "id": "f3a0a061",
   "metadata": {},
   "source": [
    "Confusion Matrix"
   ]
  },
  {
   "cell_type": "code",
   "execution_count": 20,
   "id": "28bdc24c",
   "metadata": {},
   "outputs": [
    {
     "data": {
      "text/plain": [
       "DenseMatrix(2, 2, [57215.0, 77.0, 11.0, 17.0], 0)"
      ]
     },
     "execution_count": 20,
     "metadata": {},
     "output_type": "execute_result"
    }
   ],
   "source": [
    "metrics = MulticlassMetrics(predictions.select('prediction','Class').rdd)\n",
    "metrics.confusionMatrix()"
   ]
  },
  {
   "cell_type": "markdown",
   "id": "f3ab32e9",
   "metadata": {},
   "source": [
    "### Gradient-Boosted Tree Classfier - trenowanie & testowanie "
   ]
  },
  {
   "cell_type": "code",
   "execution_count": 21,
   "id": "a209fc2e",
   "metadata": {},
   "outputs": [],
   "source": [
    "algo = GBTClassifier(featuresCol='normFeatures', labelCol='Class')\n",
    "model = algo.fit(trainingNormData)"
   ]
  },
  {
   "cell_type": "code",
   "execution_count": 22,
   "id": "5be32632",
   "metadata": {},
   "outputs": [],
   "source": [
    "predictions = model.transform(testNormData)"
   ]
  },
  {
   "cell_type": "markdown",
   "id": "c07dc0d9",
   "metadata": {},
   "source": [
    "Wyświetlenie pierwszych 20 wyników klasyfikacji:"
   ]
  },
  {
   "cell_type": "code",
   "execution_count": 23,
   "id": "fd5d1446",
   "metadata": {},
   "outputs": [
    {
     "name": "stdout",
     "output_type": "stream",
     "text": [
      "+-----+----------+\n",
      "|Class|prediction|\n",
      "+-----+----------+\n",
      "|  0.0|       0.0|\n",
      "|  0.0|       0.0|\n",
      "|  0.0|       0.0|\n",
      "|  0.0|       0.0|\n",
      "|  0.0|       0.0|\n",
      "|  0.0|       0.0|\n",
      "|  0.0|       0.0|\n",
      "|  0.0|       0.0|\n",
      "|  0.0|       0.0|\n",
      "|  0.0|       0.0|\n",
      "|  0.0|       0.0|\n",
      "|  0.0|       0.0|\n",
      "|  0.0|       0.0|\n",
      "|  0.0|       0.0|\n",
      "|  0.0|       0.0|\n",
      "|  0.0|       0.0|\n",
      "|  0.0|       0.0|\n",
      "|  0.0|       0.0|\n",
      "|  0.0|       0.0|\n",
      "|  0.0|       0.0|\n",
      "+-----+----------+\n",
      "only showing top 20 rows\n",
      "\n"
     ]
    }
   ],
   "source": [
    "predictions.select(['Class','prediction']).show()"
   ]
  },
  {
   "cell_type": "markdown",
   "id": "9cc4ac08",
   "metadata": {},
   "source": [
    "### Ocena jakości klasyfikatora"
   ]
  },
  {
   "cell_type": "markdown",
   "id": "2a1ff516",
   "metadata": {},
   "source": [
    "Dokładność i błąd klasyfikacji"
   ]
  },
  {
   "cell_type": "code",
   "execution_count": 24,
   "id": "73312d67",
   "metadata": {},
   "outputs": [
    {
     "data": {
      "text/plain": [
       "0.9993021632937893"
      ]
     },
     "execution_count": 24,
     "metadata": {},
     "output_type": "execute_result"
    }
   ],
   "source": [
    "evaluator = MulticlassClassificationEvaluator(labelCol='Class', predictionCol=\"prediction\", metricName='accuracy')\n",
    "evaluator.evaluate(predictions)"
   ]
  },
  {
   "cell_type": "markdown",
   "id": "d0a29996",
   "metadata": {},
   "source": [
    "F1-score"
   ]
  },
  {
   "cell_type": "code",
   "execution_count": 25,
   "id": "0c45bdcd",
   "metadata": {},
   "outputs": [
    {
     "data": {
      "text/plain": [
       "0.9992606863559548"
      ]
     },
     "execution_count": 25,
     "metadata": {},
     "output_type": "execute_result"
    }
   ],
   "source": [
    "evaluator = MulticlassClassificationEvaluator(labelCol='Class', predictionCol=\"prediction\", metricName='f1')\n",
    "evaluator.evaluate(predictions)"
   ]
  },
  {
   "cell_type": "markdown",
   "id": "874fcd46",
   "metadata": {},
   "source": [
    "AUC"
   ]
  },
  {
   "cell_type": "code",
   "execution_count": 26,
   "id": "d5a99bc1",
   "metadata": {},
   "outputs": [
    {
     "data": {
      "text/plain": [
       "0.9556063082470323"
      ]
     },
     "execution_count": 26,
     "metadata": {},
     "output_type": "execute_result"
    }
   ],
   "source": [
    "evaluator = BinaryClassificationEvaluator(labelCol='Class', rawPredictionCol='rawPrediction')\n",
    "evaluator.evaluate(predictions)"
   ]
  },
  {
   "cell_type": "markdown",
   "id": "4ab08fdd",
   "metadata": {},
   "source": [
    "Confusion Matrix"
   ]
  },
  {
   "cell_type": "code",
   "execution_count": 27,
   "id": "6e1aef59",
   "metadata": {},
   "outputs": [
    {
     "data": {
      "text/plain": [
       "DenseMatrix(2, 2, [57216.0, 30.0, 10.0, 64.0], 0)"
      ]
     },
     "execution_count": 27,
     "metadata": {},
     "output_type": "execute_result"
    }
   ],
   "source": [
    "metrics = MulticlassMetrics(predictions.select('prediction','Class').rdd)\n",
    "metrics.confusionMatrix()"
   ]
  },
  {
   "cell_type": "code",
   "execution_count": null,
   "id": "ddad5a3e",
   "metadata": {},
   "outputs": [],
   "source": []
  }
 ],
 "metadata": {
  "kernelspec": {
   "display_name": "Python 3",
   "language": "python",
   "name": "python3"
  },
  "language_info": {
   "codemirror_mode": {
    "name": "ipython",
    "version": 3
   },
   "file_extension": ".py",
   "mimetype": "text/x-python",
   "name": "python",
   "nbconvert_exporter": "python",
   "pygments_lexer": "ipython3",
   "version": "3.9.5"
  }
 },
 "nbformat": 4,
 "nbformat_minor": 5
}
