{
 "cells": [
  {
   "cell_type": "code",
   "execution_count": 1,
   "id": "894f4aa5",
   "metadata": {},
   "outputs": [],
   "source": [
    "from pyspark.sql import SparkSession\n",
    "from pyspark.ml.feature import StringIndexer\n",
    "from pyspark.ml.feature import VectorAssembler"
   ]
  },
  {
   "cell_type": "code",
   "execution_count": 2,
   "id": "2f46b919",
   "metadata": {},
   "outputs": [],
   "source": [
    "spark = SparkSession.builder.master('local').getOrCreate()\n",
    "\n",
    "df = spark.read.csv('./dataset/h1b_kaggle.csv', header=True, inferSchema=True)"
   ]
  },
  {
   "cell_type": "code",
   "execution_count": null,
   "id": "ff800567",
   "metadata": {},
   "outputs": [],
   "source": [
    "indexer = StringIndexer(inputCols=['CASE_STATUS', 'EMPLOYER_NAME', 'SOC_NAME', 'JOB_TITLE', 'FULL_TIME_POSITION', 'WORKSITE'],\n",
    "                        outputCols=['caseStatus', 'employerName', 'socName', 'jobName', 'fullTimePosition', 'worksite'])\n",
    "\n",
    "vec_assembler = VectorAssembler(inputCols=['employerName', 'socName', 'jobName', \n",
    "                                           'fullTimePosition', 'worksite', 'lon', 'lat', 'PREVAILING_WAGE',\n",
    "                                           'YEAR'], outputCol='features')\n"
   ]
  }
 ],
 "metadata": {
  "kernelspec": {
   "display_name": "Python 3",
   "language": "python",
   "name": "python3"
  },
  "language_info": {
   "codemirror_mode": {
    "name": "ipython",
    "version": 3
   },
   "file_extension": ".py",
   "mimetype": "text/x-python",
   "name": "python",
   "nbconvert_exporter": "python",
   "pygments_lexer": "ipython3",
   "version": "3.9.5"
  }
 },
 "nbformat": 4,
 "nbformat_minor": 5
}
