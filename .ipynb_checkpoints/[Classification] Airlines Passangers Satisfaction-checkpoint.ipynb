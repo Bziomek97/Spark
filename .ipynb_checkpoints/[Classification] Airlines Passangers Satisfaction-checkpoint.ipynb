{
 "cells": [
  {
   "cell_type": "markdown",
   "id": "88a2b242",
   "metadata": {},
   "source": [
    "## Spark ML - badanie oszustw z kartami kredytowymi"
   ]
  },
  {
   "cell_type": "markdown",
   "id": "42a15a15",
   "metadata": {},
   "source": [
    "Źródło danych: https://www.kaggle.com/mlg-ulb/creditcardfraud"
   ]
  },
  {
   "cell_type": "markdown",
   "id": "1a0eac32",
   "metadata": {},
   "source": [
    "#### Wczytanie danych"
   ]
  },
  {
   "cell_type": "code",
   "execution_count": 1,
   "id": "f9e39af6",
   "metadata": {},
   "outputs": [],
   "source": [
    "from pyspark.sql import SparkSession\n",
    "from pyspark.ml.feature import VectorAssembler\n",
    "from pyspark.ml.feature import Normalizer\n",
    "from pyspark.ml.classification import RandomForestClassifier, LogisticRegression, GBTClassifier\n",
    "from pyspark.ml.evaluation import MulticlassClassificationEvaluator, BinaryClassificationEvaluator\n",
    "from pyspark.mllib.evaluation import MulticlassMetrics\n",
    "from pyspark.sql.types import DoubleType"
   ]
  },
  {
   "cell_type": "code",
   "execution_count": 3,
   "id": "132b07c2",
   "metadata": {},
   "outputs": [],
   "source": [
    "from pyspark import SparkConf\n",
    "\n",
    "spark = SparkSession.builder.master('local').appName('MiNADZD').getOrCreate()"
   ]
  },
  {
   "cell_type": "code",
   "execution_count": null,
   "id": "b348adb8",
   "metadata": {},
   "outputs": [],
   "source": [
    "df = spark.read.csv('./dataset/finalDataset.csv', header=True, inferSchema=True)\n",
    "\n",
    "df = df.drop('ind')\n",
    "df = df.drop('_C0')\n",
    "df = df.drop('id')\n",
    "\n",
    "for feature in df.columns:\n",
    "    df = df.withColumn(feature, df[feature].cast(DoubleType()))\n",
    "\n",
    "df"
   ]
  },
  {
   "cell_type": "markdown",
   "id": "06dabaf9",
   "metadata": {},
   "source": [
    "Rozmiar danych po wczytaniu zbioru:"
   ]
  },
  {
   "cell_type": "code",
   "execution_count": null,
   "id": "01020e68",
   "metadata": {},
   "outputs": [],
   "source": [
    "'Rozmiar danych: ' + str(df.count()) + ' rows x ' + str(len(df.columns)) + ' columns.'"
   ]
  },
  {
   "cell_type": "code",
   "execution_count": null,
   "id": "011698e8",
   "metadata": {},
   "outputs": [],
   "source": [
    "df.show(5)"
   ]
  },
  {
   "cell_type": "markdown",
   "id": "96d20516",
   "metadata": {},
   "source": [
    "Przeniesienie wszystkich cech do jednej kolumny w wektorze"
   ]
  },
  {
   "cell_type": "code",
   "execution_count": null,
   "id": "718e68d6",
   "metadata": {},
   "outputs": [],
   "source": [
    "inputColumns = []\n",
    "for feature in df.columns:\n",
    "    if feature != 'satisfaction':\n",
    "        inputColumns.append(feature)\n",
    "\n",
    "assembler = VectorAssembler(inputCols=inputColumns, outputCol='features')\n",
    "df = assembler.transform(df)"
   ]
  },
  {
   "cell_type": "code",
   "execution_count": null,
   "id": "d6606e54",
   "metadata": {},
   "outputs": [],
   "source": [
    "df = df.select('satisfaction', 'features')\n",
    "df"
   ]
  },
  {
   "cell_type": "markdown",
   "id": "b45888e0",
   "metadata": {},
   "source": [
    "Normalizacja"
   ]
  },
  {
   "cell_type": "code",
   "execution_count": null,
   "id": "0309b01e",
   "metadata": {},
   "outputs": [],
   "source": [
    "normalizer = Normalizer(inputCol=\"features\", outputCol=\"normFeatures\", p=1.0)\n",
    "liNormData = normalizer.transform(df)\n",
    "liNormData.select('normFeatures').show(5)"
   ]
  },
  {
   "cell_type": "markdown",
   "id": "97a7b627",
   "metadata": {},
   "source": [
    "Podział na dane uczące i testowe"
   ]
  },
  {
   "cell_type": "code",
   "execution_count": null,
   "id": "790e8509",
   "metadata": {},
   "outputs": [],
   "source": [
    "(trainingNormData, testNormData) = liNormData.randomSplit([0.8,0.2])"
   ]
  },
  {
   "cell_type": "markdown",
   "id": "268e1762",
   "metadata": {},
   "source": [
    "### RandomForestClassifier - trenowanie & testowanie "
   ]
  },
  {
   "cell_type": "code",
   "execution_count": null,
   "id": "c2c9edff",
   "metadata": {},
   "outputs": [],
   "source": [
    "algo = RandomForestClassifier(featuresCol='normFeatures', labelCol='satisfaction')\n",
    "model = algo.fit(trainingNormData)"
   ]
  },
  {
   "cell_type": "code",
   "execution_count": null,
   "id": "83c9d264",
   "metadata": {},
   "outputs": [],
   "source": [
    "predictions = model.transform(testNormData)"
   ]
  },
  {
   "cell_type": "markdown",
   "id": "801a5b93",
   "metadata": {},
   "source": [
    "Wyświetlenie pierwszych 20 wyników klasyfikacji:"
   ]
  },
  {
   "cell_type": "code",
   "execution_count": null,
   "id": "fce144af",
   "metadata": {},
   "outputs": [],
   "source": [
    "predictions.select(['satisfaction','prediction', 'probability']).show(5)"
   ]
  },
  {
   "cell_type": "markdown",
   "id": "52601e37",
   "metadata": {},
   "source": [
    "### Ocena jakości klasyfikatora"
   ]
  },
  {
   "cell_type": "markdown",
   "id": "cfd5151e",
   "metadata": {},
   "source": [
    "Dokładność i błąd klasyfikacji"
   ]
  },
  {
   "cell_type": "code",
   "execution_count": null,
   "id": "9abc7d2c",
   "metadata": {},
   "outputs": [],
   "source": [
    "evaluator = MulticlassClassificationEvaluator(labelCol='satisfaction', predictionCol=\"prediction\", metricName='accuracy')\n",
    "evaluator.evaluate(predictions)"
   ]
  },
  {
   "cell_type": "markdown",
   "id": "890abc5f",
   "metadata": {},
   "source": [
    "F1-score"
   ]
  },
  {
   "cell_type": "code",
   "execution_count": null,
   "id": "6925f438",
   "metadata": {},
   "outputs": [],
   "source": [
    "evaluator = MulticlassClassificationEvaluator(labelCol='satisfaction', predictionCol=\"prediction\", metricName='f1')\n",
    "evaluator.evaluate(predictions)"
   ]
  },
  {
   "cell_type": "markdown",
   "id": "dc5d7b10",
   "metadata": {},
   "source": [
    "AUC"
   ]
  },
  {
   "cell_type": "code",
   "execution_count": null,
   "id": "4d1abae3",
   "metadata": {},
   "outputs": [],
   "source": [
    "evaluator = BinaryClassificationEvaluator(labelCol='satisfaction', rawPredictionCol='rawPrediction')\n",
    "evaluator.evaluate(predictions)"
   ]
  },
  {
   "cell_type": "markdown",
   "id": "a2783822",
   "metadata": {},
   "source": [
    "Confusion Matrix"
   ]
  },
  {
   "cell_type": "code",
   "execution_count": null,
   "id": "2f6a6df9",
   "metadata": {},
   "outputs": [],
   "source": [
    "rdd = predictions.select('prediction','satisfaction').rdd"
   ]
  },
  {
   "cell_type": "code",
   "execution_count": null,
   "id": "3a3d540e",
   "metadata": {},
   "outputs": [],
   "source": [
    "mm = MulticlassMetrics(rdd)"
   ]
  },
  {
   "cell_type": "code",
   "execution_count": null,
   "id": "3ec93d60",
   "metadata": {},
   "outputs": [],
   "source": [
    "metrics = MulticlassMetrics(predictions.select('prediction','satisfaction').rdd)\n",
    "metrics.confusionMatrix()\n",
    "metrics"
   ]
  },
  {
   "cell_type": "markdown",
   "id": "9744dcea",
   "metadata": {},
   "source": [
    "### LogisticRegression - trenowanie & testowanie "
   ]
  },
  {
   "cell_type": "code",
   "execution_count": null,
   "id": "2f9e0a9e",
   "metadata": {},
   "outputs": [],
   "source": [
    "algo = LogisticRegression(featuresCol='normFeatures', labelCol='satisfaction')\n",
    "model = algo.fit(trainingNormData)"
   ]
  },
  {
   "cell_type": "code",
   "execution_count": null,
   "id": "298c5650",
   "metadata": {},
   "outputs": [],
   "source": [
    "predictions = model.transform(testNormData)"
   ]
  },
  {
   "cell_type": "markdown",
   "id": "3aaf6283",
   "metadata": {},
   "source": [
    "Wyświetlenie pierwszych 20 wyników klasyfikacji:"
   ]
  },
  {
   "cell_type": "code",
   "execution_count": null,
   "id": "d80ee4f7",
   "metadata": {
    "scrolled": true
   },
   "outputs": [],
   "source": [
    "predictions.select(['satisfaction','prediction']).show(5)"
   ]
  },
  {
   "cell_type": "markdown",
   "id": "ce2dd0c6",
   "metadata": {},
   "source": [
    "### Ocena jakości klasyfikatora"
   ]
  },
  {
   "cell_type": "markdown",
   "id": "b08da5ee",
   "metadata": {},
   "source": [
    "Dokładność i błąd klasyfikacji"
   ]
  },
  {
   "cell_type": "code",
   "execution_count": null,
   "id": "edf8c192",
   "metadata": {},
   "outputs": [],
   "source": [
    "evaluator = MulticlassClassificationEvaluator(labelCol='satisfaction', predictionCol=\"prediction\", metricName='accuracy')\n",
    "evaluator.evaluate(predictions)"
   ]
  },
  {
   "cell_type": "markdown",
   "id": "7746fef1",
   "metadata": {},
   "source": [
    "F1-score"
   ]
  },
  {
   "cell_type": "code",
   "execution_count": null,
   "id": "e1d70201",
   "metadata": {},
   "outputs": [],
   "source": [
    "evaluator = MulticlassClassificationEvaluator(labelCol='satisfaction', predictionCol=\"prediction\", metricName='f1')\n",
    "evaluator.evaluate(predictions)"
   ]
  },
  {
   "cell_type": "markdown",
   "id": "82151467",
   "metadata": {},
   "source": [
    "AUC"
   ]
  },
  {
   "cell_type": "code",
   "execution_count": null,
   "id": "28db2105",
   "metadata": {},
   "outputs": [],
   "source": [
    "evaluator = BinaryClassificationEvaluator(labelCol='satisfaction', rawPredictionCol='rawPrediction')\n",
    "evaluator.evaluate(predictions)"
   ]
  },
  {
   "cell_type": "markdown",
   "id": "934a1a1a",
   "metadata": {},
   "source": [
    "Confusion Matrix"
   ]
  },
  {
   "cell_type": "code",
   "execution_count": null,
   "id": "3d7cd735",
   "metadata": {},
   "outputs": [],
   "source": [
    "metrics = MulticlassMetrics(predictions.select('prediction','satisfaction').rdd)\n",
    "metrics.confusionMatrix()"
   ]
  },
  {
   "cell_type": "markdown",
   "id": "c8d89781",
   "metadata": {},
   "source": [
    "### Gradient-Boosted Tree Classfier - trenowanie & testowanie "
   ]
  },
  {
   "cell_type": "code",
   "execution_count": null,
   "id": "2417db42",
   "metadata": {},
   "outputs": [],
   "source": [
    "algo = GBTClassifier(featuresCol='normFeatures', labelCol='satisfaction')\n",
    "model = algo.fit(trainingNormData)"
   ]
  },
  {
   "cell_type": "code",
   "execution_count": null,
   "id": "e26a518d",
   "metadata": {},
   "outputs": [],
   "source": [
    "predictions = model.transform(testNormData)"
   ]
  },
  {
   "cell_type": "markdown",
   "id": "a0e9ef2d",
   "metadata": {},
   "source": [
    "Wyświetlenie pierwszych 20 wyników klasyfikacji:"
   ]
  },
  {
   "cell_type": "code",
   "execution_count": null,
   "id": "9298c528",
   "metadata": {},
   "outputs": [],
   "source": [
    "predictions.select(['satisfaction','prediction']).show()"
   ]
  },
  {
   "cell_type": "markdown",
   "id": "ed757c0b",
   "metadata": {},
   "source": [
    "### Ocena jakości klasyfikatora"
   ]
  },
  {
   "cell_type": "markdown",
   "id": "d790bb72",
   "metadata": {},
   "source": [
    "Dokładność i błąd klasyfikacji"
   ]
  },
  {
   "cell_type": "code",
   "execution_count": null,
   "id": "1e675c77",
   "metadata": {},
   "outputs": [],
   "source": [
    "evaluator = MulticlassClassificationEvaluator(labelCol='satisfaction', predictionCol=\"prediction\", metricName='accuracy')\n",
    "evaluator.evaluate(predictions)"
   ]
  },
  {
   "cell_type": "markdown",
   "id": "90a36925",
   "metadata": {},
   "source": [
    "F1-score"
   ]
  },
  {
   "cell_type": "code",
   "execution_count": null,
   "id": "7f19e7a9",
   "metadata": {},
   "outputs": [],
   "source": [
    "evaluator = MulticlassClassificationEvaluator(labelCol='satisfaction', predictionCol=\"prediction\", metricName='f1')\n",
    "evaluator.evaluate(predictions)"
   ]
  },
  {
   "cell_type": "markdown",
   "id": "0403646b",
   "metadata": {},
   "source": [
    "AUC"
   ]
  },
  {
   "cell_type": "code",
   "execution_count": null,
   "id": "85933db1",
   "metadata": {},
   "outputs": [],
   "source": [
    "evaluator = BinaryClassificationEvaluator(labelCol='satisfaction', rawPredictionCol='rawPrediction')\n",
    "evaluator.evaluate(predictions)"
   ]
  },
  {
   "cell_type": "markdown",
   "id": "d84baca8",
   "metadata": {},
   "source": [
    "Confusion Matrix"
   ]
  },
  {
   "cell_type": "code",
   "execution_count": null,
   "id": "7e185b98",
   "metadata": {},
   "outputs": [],
   "source": [
    "metrics = MulticlassMetrics(predictions.select('prediction','satisfaction').rdd)\n",
    "metrics.confusionMatrix()"
   ]
  },
  {
   "cell_type": "code",
   "execution_count": null,
   "id": "f658afbf",
   "metadata": {},
   "outputs": [],
   "source": []
  }
 ],
 "metadata": {
  "kernelspec": {
   "display_name": "Python 3",
   "language": "python",
   "name": "python3"
  },
  "language_info": {
   "codemirror_mode": {
    "name": "ipython",
    "version": 3
   },
   "file_extension": ".py",
   "mimetype": "text/x-python",
   "name": "python",
   "nbconvert_exporter": "python",
   "pygments_lexer": "ipython3",
   "version": "3.9.5"
  }
 },
 "nbformat": 4,
 "nbformat_minor": 5
}
