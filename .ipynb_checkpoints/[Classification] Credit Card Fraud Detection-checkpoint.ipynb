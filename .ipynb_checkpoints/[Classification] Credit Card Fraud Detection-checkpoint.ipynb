{
 "cells": [
  {
   "cell_type": "code",
   "execution_count": 14,
   "id": "11e0b0bc",
   "metadata": {},
   "outputs": [],
   "source": [
    "from pyspark.sql import SparkSession\n",
    "from pyspark.ml.classification import DecisionTreeClassifier"
   ]
  },
  {
   "cell_type": "code",
   "execution_count": 9,
   "id": "ade3087b",
   "metadata": {},
   "outputs": [],
   "source": [
    "spark = SparkSession.builder.master('local').appName('MiNADZD').getOrCreate()\n",
    "\n",
    "df = spark.read.csv('./dataset/creditcard.csv', header=True, inferSchema=True)"
   ]
  },
  {
   "cell_type": "code",
   "execution_count": 12,
   "id": "0f680479",
   "metadata": {},
   "outputs": [
    {
     "data": {
      "text/plain": [
       "'Rozmiar danych: 284807 rows x 31 columns.'"
      ]
     },
     "execution_count": 12,
     "metadata": {},
     "output_type": "execute_result"
    }
   ],
   "source": [
    "'Rozmiar danych: ' + str(df.count()) + ' rows x ' + str(len(df.columns)) + ' columns.'"
   ]
  },
  {
   "cell_type": "code",
   "execution_count": null,
   "id": "a9b845a0",
   "metadata": {},
   "outputs": [],
   "source": [
    "labelIndexer = StringIndexer(inputCol=\"label\", outputCol=\"indexedLabel\").fit(data)\n",
    "featureIndexer =\\\n",
    "    VectorIndexer(inputCol=\"features\", outputCol=\"indexedFeatures\", maxCategories=4).fit(data)"
   ]
  },
  {
   "cell_type": "code",
   "execution_count": 13,
   "id": "47abeeca",
   "metadata": {},
   "outputs": [
    {
     "name": "stdout",
     "output_type": "stream",
     "text": [
      "[Zbior trenowany] Rozmiar danych: 227900 rows x 31 columns.\n",
      "[Zbior testowy] Rozmiar danych: 56907 rows x 31 columns.\n"
     ]
    }
   ],
   "source": [
    "train, test = df.randomSplit([0.8, 0.2])\n",
    "\n",
    "print('[Zbior trenowany] Rozmiar danych: ' + str(train.count()) + ' rows x ' + str(len(train.columns)) + ' columns.')\n",
    "print('[Zbior testowy] Rozmiar danych: ' + str(test.count()) + ' rows x ' + str(len(test.columns)) + ' columns.')"
   ]
  },
  {
   "cell_type": "code",
   "execution_count": null,
   "id": "eb02e007",
   "metadata": {},
   "outputs": [],
   "source": [
    "dt = DecisionTreeClassifier(labelCol=\"indexedLabel\", featuresCol=\"indexedFeatures\")"
   ]
  }
 ],
 "metadata": {
  "kernelspec": {
   "display_name": "Python 3",
   "language": "python",
   "name": "python3"
  },
  "language_info": {
   "codemirror_mode": {
    "name": "ipython",
    "version": 3
   },
   "file_extension": ".py",
   "mimetype": "text/x-python",
   "name": "python",
   "nbconvert_exporter": "python",
   "pygments_lexer": "ipython3",
   "version": "3.9.5"
  }
 },
 "nbformat": 4,
 "nbformat_minor": 5
}
